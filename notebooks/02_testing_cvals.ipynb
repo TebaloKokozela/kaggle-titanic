{
 "cells": [
  {
   "cell_type": "code",
   "execution_count": 158,
   "id": "5dbf0733-6eeb-458f-a2d6-732ba072fa8a",
   "metadata": {},
   "outputs": [],
   "source": [
    "import numpy as np\n",
    "import pandas as pd\n",
    "import matplotlib.pyplot as plt\n",
    "import matplotlib as mpl\n",
    "import seaborn as sns\n",
    "\n",
    "from sklearn.linear_model import LogisticRegression\n",
    "from sklearn.model_selection import KFold,StratifiedKFold,GridSearchCV\n",
    "from sklearn.datasets import make_classification\n",
    "from sklearn.model_selection import train_test_split\n",
    "from sklearn.preprocessing import minmax_scale\n",
    "from sklearn.metrics import roc_auc_score,roc_curve"
   ]
  },
  {
   "cell_type": "code",
   "execution_count": null,
   "id": "924de864-4f6f-491d-ae5c-9fca02072f2f",
   "metadata": {},
   "outputs": [],
   "source": []
  },
  {
   "cell_type": "code",
   "execution_count": 29,
   "id": "2df190a1-3be0-49b2-908c-06d77a6c4b24",
   "metadata": {},
   "outputs": [],
   "source": [
    "mpl.rcParams['figure.dpi'] = 100\n",
    "mpl.rcParams['figure.figsize'] = [12,4]\n",
    "sns.set_style('whitegrid')"
   ]
  },
  {
   "cell_type": "code",
   "execution_count": 127,
   "id": "bb999860-e27a-4a70-99b8-7b16578363e7",
   "metadata": {},
   "outputs": [],
   "source": [
    "X_synthetic, y_synthetic = make_classification(n_samples=1000,n_features=200,\n",
    "                                               n_informative=3,n_classes=2,n_redundant=0,\n",
    "                                               class_sep=0.8,random_state=24)"
   ]
  },
  {
   "cell_type": "code",
   "execution_count": 128,
   "id": "d14f0066-dd3b-4411-8ac7-9090097c1fcd",
   "metadata": {},
   "outputs": [
    {
     "name": "stdout",
     "output_type": "stream",
     "text": [
      "(1000, 200) (1000,)\n"
     ]
    }
   ],
   "source": [
    "print(X_synthetic.shape,y_synthetic.shape)"
   ]
  },
  {
   "cell_type": "code",
   "execution_count": 129,
   "id": "9e82c9f9-9eee-4b42-bc7f-d35acd252edb",
   "metadata": {},
   "outputs": [
    {
     "data": {
      "image/png": "[encoded data removed]",
      "text/plain": [
       "<Figure size 1200x400 with 4 Axes>"
      ]
     },
     "metadata": {},
     "output_type": "display_data"
    }
   ],
   "source": [
    "for plot_index in np.arange(4):\n",
    "    plt.subplot(2,2,plot_index+1)\n",
    "    plt.hist(X_synthetic[:,plot_index])\n",
    "    plt.title(f' Histogram for Feature {plot_index+1}')\n",
    "plt.tight_layout()"
   ]
  },
  {
   "cell_type": "code",
   "execution_count": 130,
   "id": "9873ac2d-e06f-43b2-a434-4f562fa9a21d",
   "metadata": {},
   "outputs": [],
   "source": [
    "X_train,X_test,y_train,y_test = train_test_split(X_synthetic,y_synthetic,test_size=0.2,random_state=42)"
   ]
  },
  {
   "cell_type": "code",
   "execution_count": 131,
   "id": "885c4754-fe71-4100-8445-21be7bd53a62",
   "metadata": {},
   "outputs": [],
   "source": [
    "lr_syn = LogisticRegression()\n",
    "lr_syn.solver = 'liblinear'\n",
    "lr_syn.penalty = 'l1'\n",
    "lr_syn.C = 1000"
   ]
  },
  {
   "cell_type": "code",
   "execution_count": 132,
   "id": "abaf3423-7977-4441-9988-5c98ae259a10",
   "metadata": {},
   "outputs": [
    {
     "data": {
      "text/html": [
       "<style>#sk-container-id-4 {color: black;background-color: white;}#sk-container-id-4 pre{padding: 0;}#sk-container-id-4 div.sk-toggleable {background-color: white;}#sk-container-id-4 label.sk-toggleable__label {cursor: pointer;display: block;width: 100%;margin-bottom: 0;padding: 0.3em;box-sizing: border-box;text-align: center;}#sk-container-id-4 label.sk-toggleable__label-arrow:before {content: \"▸\";float: left;margin-right: 0.25em;color: #696969;}#sk-container-id-4 label.sk-toggleable__label-arrow:hover:before {color: black;}#sk-container-id-4 div.sk-estimator:hover label.sk-toggleable__label-arrow:before {color: black;}#sk-container-id-4 div.sk-toggleable__content {max-height: 0;max-width: 0;overflow: hidden;text-align: left;background-color: #f0f8ff;}#sk-container-id-4 div.sk-toggleable__content pre {margin: 0.2em;color: black;border-radius: 0.25em;background-color: #f0f8ff;}#sk-container-id-4 input.sk-toggleable__control:checked~div.sk-toggleable__content {max-height: 200px;max-width: 100%;overflow: auto;}#sk-container-id-4 input.sk-toggleable__control:checked~label.sk-toggleable__label-arrow:before {content: \"▾\";}#sk-container-id-4 div.sk-estimator input.sk-toggleable__control:checked~label.sk-toggleable__label {background-color: #d4ebff;}#sk-container-id-4 div.sk-label input.sk-toggleable__control:checked~label.sk-toggleable__label {background-color: #d4ebff;}#sk-container-id-4 input.sk-hidden--visually {border: 0;clip: rect(1px 1px 1px 1px);clip: rect(1px, 1px, 1px, 1px);height: 1px;margin: -1px;overflow: hidden;padding: 0;position: absolute;width: 1px;}#sk-container-id-4 div.sk-estimator {font-family: monospace;background-color: #f0f8ff;border: 1px dotted black;border-radius: 0.25em;box-sizing: border-box;margin-bottom: 0.5em;}#sk-container-id-4 div.sk-estimator:hover {background-color: #d4ebff;}#sk-container-id-4 div.sk-parallel-item::after {content: \"\";width: 100%;border-bottom: 1px solid gray;flex-grow: 1;}#sk-container-id-4 div.sk-label:hover label.sk-toggleable__label {background-color: #d4ebff;}#sk-container-id-4 div.sk-serial::before {content: \"\";position: absolute;border-left: 1px solid gray;box-sizing: border-box;top: 0;bottom: 0;left: 50%;z-index: 0;}#sk-container-id-4 div.sk-serial {display: flex;flex-direction: column;align-items: center;background-color: white;padding-right: 0.2em;padding-left: 0.2em;position: relative;}#sk-container-id-4 div.sk-item {position: relative;z-index: 1;}#sk-container-id-4 div.sk-parallel {display: flex;align-items: stretch;justify-content: center;background-color: white;position: relative;}#sk-container-id-4 div.sk-item::before, #sk-container-id-4 div.sk-parallel-item::before {content: \"\";position: absolute;border-left: 1px solid gray;box-sizing: border-box;top: 0;bottom: 0;left: 50%;z-index: -1;}#sk-container-id-4 div.sk-parallel-item {display: flex;flex-direction: column;z-index: 1;position: relative;background-color: white;}#sk-container-id-4 div.sk-parallel-item:first-child::after {align-self: flex-end;width: 50%;}#sk-container-id-4 div.sk-parallel-item:last-child::after {align-self: flex-start;width: 50%;}#sk-container-id-4 div.sk-parallel-item:only-child::after {width: 0;}#sk-container-id-4 div.sk-dashed-wrapped {border: 1px dashed gray;margin: 0 0.4em 0.5em 0.4em;box-sizing: border-box;padding-bottom: 0.4em;background-color: white;}#sk-container-id-4 div.sk-label label {font-family: monospace;font-weight: bold;display: inline-block;line-height: 1.2em;}#sk-container-id-4 div.sk-label-container {text-align: center;}#sk-container-id-4 div.sk-container {/* jupyter's `normalize.less` sets `[hidden] { display: none; }` but bootstrap.min.css set `[hidden] { display: none !important; }` so we also need the `!important` here to be able to override the default hidden behavior on the sphinx rendered scikit-learn.org. See: https://github.com/scikit-learn/scikit-learn/issues/21755 */display: inline-block !important;position: relative;}#sk-container-id-4 div.sk-text-repr-fallback {display: none;}</style><div id=\"sk-container-id-4\" class=\"sk-top-container\"><div class=\"sk-text-repr-fallback\"><pre>LogisticRegression(C=1000, penalty=&#x27;l1&#x27;, solver=&#x27;liblinear&#x27;)</pre><b>In a Jupyter environment, please rerun this cell to show the HTML representation or trust the notebook. <br />On GitHub, the HTML representation is unable to render, please try loading this page with nbviewer.org.</b></div><div class=\"sk-container\" hidden><div class=\"sk-item\"><div class=\"sk-estimator sk-toggleable\"><input class=\"sk-toggleable__control sk-hidden--visually\" id=\"sk-estimator-id-4\" type=\"checkbox\" checked><label for=\"sk-estimator-id-4\" class=\"sk-toggleable__label sk-toggleable__label-arrow\">LogisticRegression</label><div class=\"sk-toggleable__content\"><pre>LogisticRegression(C=1000, penalty=&#x27;l1&#x27;, solver=&#x27;liblinear&#x27;)</pre></div></div></div></div></div>"
      ],
      "text/plain": [
       "LogisticRegression(C=1000, penalty='l1', solver='liblinear')"
      ]
     },
     "execution_count": 132,
     "metadata": {},
     "output_type": "execute_result"
    }
   ],
   "source": [
    "lr_syn.fit(X_train,y_train)"
   ]
  },
  {
   "cell_type": "code",
   "execution_count": 133,
   "id": "8eadb2e8-8537-4644-8f6a-04de2e32f7c7",
   "metadata": {},
   "outputs": [
    {
     "data": {
      "text/plain": [
       "0.8801125703564727"
      ]
     },
     "execution_count": 133,
     "metadata": {},
     "output_type": "execute_result"
    }
   ],
   "source": [
    "y_syn_pred = lr_syn.predict(X_train)\n",
    "roc_auc_score(y_train,y_syn_pred)"
   ]
  },
  {
   "cell_type": "code",
   "execution_count": 134,
   "id": "7e4d8af5-eceb-4bee-93d3-85362d4b6956",
   "metadata": {},
   "outputs": [],
   "source": [
    "# lr_syn.predict(X_train)"
   ]
  },
  {
   "cell_type": "code",
   "execution_count": 135,
   "id": "19b1b384-8a85-4d36-ae90-019ae3a9996d",
   "metadata": {},
   "outputs": [
    {
     "data": {
      "text/plain": [
       "0.6663474140538361"
      ]
     },
     "execution_count": 135,
     "metadata": {},
     "output_type": "execute_result"
    }
   ],
   "source": [
    "y_syn_pred_test = lr_syn.predict(X_test)\n",
    "roc_auc_score(y_test,y_syn_pred_test)"
   ]
  },
  {
   "cell_type": "code",
   "execution_count": 136,
   "id": "9e27bc46-0576-433c-b6ef-542987a292fd",
   "metadata": {},
   "outputs": [],
   "source": [
    "c_vals = (10.0)**(-1*np.arange(-3,3,0.5))"
   ]
  },
  {
   "cell_type": "code",
   "execution_count": 137,
   "id": "5faacbd9-acea-4eec-b063-724a8654e460",
   "metadata": {},
   "outputs": [
    {
     "data": {
      "text/plain": [
       "(4, 12)"
      ]
     },
     "execution_count": 137,
     "metadata": {},
     "output_type": "execute_result"
    }
   ],
   "source": [
    "np.empty((4,12)).shape"
   ]
  },
  {
   "cell_type": "code",
   "execution_count": 138,
   "id": "c11b3594-082f-4af4-a303-896518abf0c2",
   "metadata": {},
   "outputs": [],
   "source": [
    "def cross_val_C_search(k_folds:'K_fold model',C_vals:'list of c values',model:'model',X,Y):\n",
    "    n_folds = k_folds.n_splits\n",
    "    cv_train_roc_auc = np.empty((n_folds,len(C_vals)))\n",
    "    cv_test_roc_auc  = np.empty((n_folds,len(C_vals)))\n",
    "    cv_test_roc = [[]]*len(C_vals)\n",
    "\n",
    "    for c_val_counter in range(len(C_vals)):\n",
    "        # Set the C value for the model objects\n",
    "        model.C = C_vals[c_val_counter]\n",
    "        model.max_iter = 1000\n",
    "        # Count folds for each value of c\n",
    "        fold_counter = 0\n",
    "        for train_index, test_index in k_folds.split(X,Y):\n",
    "            X_cv_train, X_cv_test = X[train_index],X[test_index]\n",
    "            y_cv_train, y_cv_test = Y[train_index],Y[test_index]\n",
    "            model.fit(X_cv_train,y_cv_train)\n",
    "\n",
    "            # calculate train reciever oparating curve - area under the curve\n",
    "            y_cv_train_predict = model.predict(X_cv_train)\n",
    "            cv_train_roc_auc[fold_counter,c_val_counter] = roc_auc_score(y_cv_train,y_cv_train_predict)\n",
    "\n",
    "            # calculate test reciever operating curve - area under the curve\n",
    "            y_cv_test_predict = model.predict(X_cv_test)\n",
    "            cv_test_roc_auc[fold_counter,c_val_counter] = roc_auc_score(y_cv_test,y_cv_test_predict)\n",
    "\n",
    "            this_fold_roc = roc_curve(y_cv_test,y_cv_test_predict)\n",
    "            cv_test_roc[c_val_counter].append(this_fold_roc)\n",
    "\n",
    "            fold_counter += 1\n",
    "        print(f\"Done with C = {model.C:0.2f}\")\n",
    "\n",
    "    return cv_train_roc_auc, cv_test_roc_auc, cv_test_roc"
   ]
  },
  {
   "cell_type": "code",
   "execution_count": 139,
   "id": "ea34827d-1ad8-4698-bac0-b4a7358f585a",
   "metadata": {},
   "outputs": [],
   "source": [
    "n_folds = 4\n",
    "k_folds =  KFold(n_splits=4,shuffle = False)"
   ]
  },
  {
   "cell_type": "code",
   "execution_count": 140,
   "id": "17caa4bf-415d-46da-bd0e-cfb11a20cd62",
   "metadata": {},
   "outputs": [
    {
     "name": "stderr",
     "output_type": "stream",
     "text": [
      "/Library/Frameworks/Python.framework/Versions/3.10/lib/python3.10/site-packages/sklearn/svm/_base.py:1225: ConvergenceWarning: Liblinear failed to converge, increase the number of iterations.\n",
      "  warnings.warn(\n",
      "/Library/Frameworks/Python.framework/Versions/3.10/lib/python3.10/site-packages/sklearn/svm/_base.py:1225: ConvergenceWarning: Liblinear failed to converge, increase the number of iterations.\n",
      "  warnings.warn(\n"
     ]
    },
    {
     "name": "stdout",
     "output_type": "stream",
     "text": [
      "Done with C = 1000.00\n"
     ]
    },
    {
     "name": "stderr",
     "output_type": "stream",
     "text": [
      "/Library/Frameworks/Python.framework/Versions/3.10/lib/python3.10/site-packages/sklearn/svm/_base.py:1225: ConvergenceWarning: Liblinear failed to converge, increase the number of iterations.\n",
      "  warnings.warn(\n",
      "/Library/Frameworks/Python.framework/Versions/3.10/lib/python3.10/site-packages/sklearn/svm/_base.py:1225: ConvergenceWarning: Liblinear failed to converge, increase the number of iterations.\n",
      "  warnings.warn(\n"
     ]
    },
    {
     "name": "stdout",
     "output_type": "stream",
     "text": [
      "Done with C = 316.23\n"
     ]
    },
    {
     "name": "stderr",
     "output_type": "stream",
     "text": [
      "/Library/Frameworks/Python.framework/Versions/3.10/lib/python3.10/site-packages/sklearn/svm/_base.py:1225: ConvergenceWarning: Liblinear failed to converge, increase the number of iterations.\n",
      "  warnings.warn(\n"
     ]
    },
    {
     "name": "stdout",
     "output_type": "stream",
     "text": [
      "Done with C = 100.00\n",
      "Done with C = 31.62\n",
      "Done with C = 10.00\n",
      "Done with C = 3.16\n",
      "Done with C = 1.00\n",
      "Done with C = 0.32\n",
      "Done with C = 0.10\n",
      "Done with C = 0.03\n",
      "Done with C = 0.01\n",
      "Done with C = 0.00\n"
     ]
    }
   ],
   "source": [
    "cv_train_roc_auc, cv_test_roc_auc, cv_test_roc = cross_val_C_search(k_folds,c_vals,lr_syn,X_train,y_train)"
   ]
  },
  {
   "cell_type": "code",
   "execution_count": 141,
   "id": "c92dd678-48a5-4c31-9c15-f18d1d884ed9",
   "metadata": {},
   "outputs": [
    {
     "data": {
      "text/html": [
       "<div>\n",
       "<style scoped>\n",
       "    .dataframe tbody tr th:only-of-type {\n",
       "        vertical-align: middle;\n",
       "    }\n",
       "\n",
       "    .dataframe tbody tr th {\n",
       "        vertical-align: top;\n",
       "    }\n",
       "\n",
       "    .dataframe thead th {\n",
       "        text-align: right;\n",
       "    }\n",
       "</style>\n",
       "<table border=\"1\" class=\"dataframe\">\n",
       "  <thead>\n",
       "    <tr style=\"text-align: right;\">\n",
       "      <th></th>\n",
       "      <th>1000.000000</th>\n",
       "      <th>316.227766</th>\n",
       "      <th>100.000000</th>\n",
       "      <th>31.622777</th>\n",
       "      <th>10.000000</th>\n",
       "      <th>3.162278</th>\n",
       "      <th>1.000000</th>\n",
       "      <th>0.316228</th>\n",
       "      <th>0.100000</th>\n",
       "      <th>0.031623</th>\n",
       "      <th>0.010000</th>\n",
       "      <th>0.003162</th>\n",
       "    </tr>\n",
       "  </thead>\n",
       "  <tbody>\n",
       "    <tr>\n",
       "      <th>0</th>\n",
       "      <td>1.000000</td>\n",
       "      <td>1.000000</td>\n",
       "      <td>1.000000</td>\n",
       "      <td>1.000000</td>\n",
       "      <td>0.996655</td>\n",
       "      <td>0.956510</td>\n",
       "      <td>0.935066</td>\n",
       "      <td>0.897498</td>\n",
       "      <td>0.839857</td>\n",
       "      <td>0.817008</td>\n",
       "      <td>0.808745</td>\n",
       "      <td>0.5</td>\n",
       "    </tr>\n",
       "    <tr>\n",
       "      <th>1</th>\n",
       "      <td>0.975021</td>\n",
       "      <td>0.975021</td>\n",
       "      <td>0.975021</td>\n",
       "      <td>0.951848</td>\n",
       "      <td>0.936760</td>\n",
       "      <td>0.921784</td>\n",
       "      <td>0.908558</td>\n",
       "      <td>0.883468</td>\n",
       "      <td>0.843568</td>\n",
       "      <td>0.818755</td>\n",
       "      <td>0.818755</td>\n",
       "      <td>0.5</td>\n",
       "    </tr>\n",
       "    <tr>\n",
       "      <th>2</th>\n",
       "      <td>1.000000</td>\n",
       "      <td>1.000000</td>\n",
       "      <td>1.000000</td>\n",
       "      <td>1.000000</td>\n",
       "      <td>1.000000</td>\n",
       "      <td>0.973462</td>\n",
       "      <td>0.936655</td>\n",
       "      <td>0.898426</td>\n",
       "      <td>0.846906</td>\n",
       "      <td>0.806855</td>\n",
       "      <td>0.806855</td>\n",
       "      <td>0.5</td>\n",
       "    </tr>\n",
       "    <tr>\n",
       "      <th>3</th>\n",
       "      <td>1.000000</td>\n",
       "      <td>1.000000</td>\n",
       "      <td>1.000000</td>\n",
       "      <td>1.000000</td>\n",
       "      <td>0.971747</td>\n",
       "      <td>0.949995</td>\n",
       "      <td>0.926726</td>\n",
       "      <td>0.890189</td>\n",
       "      <td>0.831967</td>\n",
       "      <td>0.800113</td>\n",
       "      <td>0.801764</td>\n",
       "      <td>0.5</td>\n",
       "    </tr>\n",
       "  </tbody>\n",
       "</table>\n",
       "</div>"
      ],
      "text/plain": [
       "   1000.000000  316.227766   100.000000   31.622777    10.000000    \\\n",
       "0     1.000000     1.000000     1.000000     1.000000     0.996655   \n",
       "1     0.975021     0.975021     0.975021     0.951848     0.936760   \n",
       "2     1.000000     1.000000     1.000000     1.000000     1.000000   \n",
       "3     1.000000     1.000000     1.000000     1.000000     0.971747   \n",
       "\n",
       "   3.162278     1.000000     0.316228     0.100000     0.031623     \\\n",
       "0     0.956510     0.935066     0.897498     0.839857     0.817008   \n",
       "1     0.921784     0.908558     0.883468     0.843568     0.818755   \n",
       "2     0.973462     0.936655     0.898426     0.846906     0.806855   \n",
       "3     0.949995     0.926726     0.890189     0.831967     0.800113   \n",
       "\n",
       "   0.010000     0.003162     \n",
       "0     0.808745          0.5  \n",
       "1     0.818755          0.5  \n",
       "2     0.806855          0.5  \n",
       "3     0.801764          0.5  "
      ]
     },
     "execution_count": 141,
     "metadata": {},
     "output_type": "execute_result"
    }
   ],
   "source": [
    "pd.DataFrame(cv_train_roc_auc,columns=c_vals)"
   ]
  },
  {
   "cell_type": "code",
   "execution_count": 142,
   "id": "be792f3f-0aa4-4676-bce0-b0ba4017f840",
   "metadata": {},
   "outputs": [
    {
     "data": {
      "text/html": [
       "<div>\n",
       "<style scoped>\n",
       "    .dataframe tbody tr th:only-of-type {\n",
       "        vertical-align: middle;\n",
       "    }\n",
       "\n",
       "    .dataframe tbody tr th {\n",
       "        vertical-align: top;\n",
       "    }\n",
       "\n",
       "    .dataframe thead th {\n",
       "        text-align: right;\n",
       "    }\n",
       "</style>\n",
       "<table border=\"1\" class=\"dataframe\">\n",
       "  <thead>\n",
       "    <tr style=\"text-align: right;\">\n",
       "      <th></th>\n",
       "      <th>1000.000000</th>\n",
       "      <th>316.227766</th>\n",
       "      <th>100.000000</th>\n",
       "      <th>31.622777</th>\n",
       "      <th>10.000000</th>\n",
       "      <th>3.162278</th>\n",
       "      <th>1.000000</th>\n",
       "      <th>0.316228</th>\n",
       "      <th>0.100000</th>\n",
       "      <th>0.031623</th>\n",
       "      <th>0.010000</th>\n",
       "      <th>0.003162</th>\n",
       "    </tr>\n",
       "  </thead>\n",
       "  <tbody>\n",
       "    <tr>\n",
       "      <th>0</th>\n",
       "      <td>0.716586</td>\n",
       "      <td>0.716586</td>\n",
       "      <td>0.721216</td>\n",
       "      <td>0.721216</td>\n",
       "      <td>0.722021</td>\n",
       "      <td>0.717391</td>\n",
       "      <td>0.753019</td>\n",
       "      <td>0.765298</td>\n",
       "      <td>0.775362</td>\n",
       "      <td>0.791667</td>\n",
       "      <td>0.807166</td>\n",
       "      <td>0.5</td>\n",
       "    </tr>\n",
       "    <tr>\n",
       "      <th>1</th>\n",
       "      <td>0.711278</td>\n",
       "      <td>0.711278</td>\n",
       "      <td>0.711278</td>\n",
       "      <td>0.721805</td>\n",
       "      <td>0.721303</td>\n",
       "      <td>0.731328</td>\n",
       "      <td>0.721805</td>\n",
       "      <td>0.764160</td>\n",
       "      <td>0.798496</td>\n",
       "      <td>0.778947</td>\n",
       "      <td>0.778947</td>\n",
       "      <td>0.5</td>\n",
       "    </tr>\n",
       "    <tr>\n",
       "      <th>2</th>\n",
       "      <td>0.704235</td>\n",
       "      <td>0.709554</td>\n",
       "      <td>0.699518</td>\n",
       "      <td>0.704235</td>\n",
       "      <td>0.704235</td>\n",
       "      <td>0.708350</td>\n",
       "      <td>0.749699</td>\n",
       "      <td>0.730831</td>\n",
       "      <td>0.781012</td>\n",
       "      <td>0.815837</td>\n",
       "      <td>0.815837</td>\n",
       "      <td>0.5</td>\n",
       "    </tr>\n",
       "    <tr>\n",
       "      <th>3</th>\n",
       "      <td>0.736609</td>\n",
       "      <td>0.741282</td>\n",
       "      <td>0.741282</td>\n",
       "      <td>0.741282</td>\n",
       "      <td>0.737313</td>\n",
       "      <td>0.742689</td>\n",
       "      <td>0.777510</td>\n",
       "      <td>0.760225</td>\n",
       "      <td>0.811175</td>\n",
       "      <td>0.836650</td>\n",
       "      <td>0.831977</td>\n",
       "      <td>0.5</td>\n",
       "    </tr>\n",
       "  </tbody>\n",
       "</table>\n",
       "</div>"
      ],
      "text/plain": [
       "   1000.000000  316.227766   100.000000   31.622777    10.000000    \\\n",
       "0     0.716586     0.716586     0.721216     0.721216     0.722021   \n",
       "1     0.711278     0.711278     0.711278     0.721805     0.721303   \n",
       "2     0.704235     0.709554     0.699518     0.704235     0.704235   \n",
       "3     0.736609     0.741282     0.741282     0.741282     0.737313   \n",
       "\n",
       "   3.162278     1.000000     0.316228     0.100000     0.031623     \\\n",
       "0     0.717391     0.753019     0.765298     0.775362     0.791667   \n",
       "1     0.731328     0.721805     0.764160     0.798496     0.778947   \n",
       "2     0.708350     0.749699     0.730831     0.781012     0.815837   \n",
       "3     0.742689     0.777510     0.760225     0.811175     0.836650   \n",
       "\n",
       "   0.010000     0.003162     \n",
       "0     0.807166          0.5  \n",
       "1     0.778947          0.5  \n",
       "2     0.815837          0.5  \n",
       "3     0.831977          0.5  "
      ]
     },
     "execution_count": 142,
     "metadata": {},
     "output_type": "execute_result"
    }
   ],
   "source": [
    "pd.DataFrame(cv_test_roc_auc,columns=c_vals)"
   ]
  },
  {
   "cell_type": "code",
   "execution_count": 143,
   "id": "8f09a1f2-4e34-403c-8e44-6065d6ef3664",
   "metadata": {},
   "outputs": [
    {
     "data": {
      "image/png": "[encoded data removed]",
      "text/plain": [
       "<Figure size 1200x400 with 1 Axes>"
      ]
     },
     "metadata": {},
     "output_type": "display_data"
    }
   ],
   "source": [
    "plt.plot(np.log10(c_vals),cv_test_roc_auc.mean(axis=0))\n",
    "plt.plot(np.log10(c_vals),cv_train_roc_auc.mean(axis=0))\n",
    "plt.xticks(np.log10(c_vals))\n",
    "plt.show()"
   ]
  },
  {
   "cell_type": "code",
   "execution_count": 144,
   "id": "27230e6a-fde4-44f2-b330-e9956c4c8502",
   "metadata": {},
   "outputs": [
    {
     "data": {
      "text/plain": [
       "0.03162277660168379"
      ]
     },
     "execution_count": 144,
     "metadata": {},
     "output_type": "execute_result"
    }
   ],
   "source": [
    "10**-1.5"
   ]
  },
  {
   "cell_type": "code",
   "execution_count": 200,
   "id": "f7656e52-39a1-46c9-9474-e44fd9c18042",
   "metadata": {},
   "outputs": [
    {
     "name": "stdout",
     "output_type": "stream",
     "text": [
      "Fitting 4 folds for each of 12 candidates, totalling 48 fits\n",
      "[CV] END .............C=1000.0, penalty=l1, solver=liblinear; total time=   1.4s\n",
      "[CV] END .............C=1000.0, penalty=l1, solver=liblinear; total time=   0.4s\n",
      "[CV] END .............C=1000.0, penalty=l1, solver=liblinear; total time=   0.6s\n"
     ]
    },
    {
     "name": "stderr",
     "output_type": "stream",
     "text": [
      "/Library/Frameworks/Python.framework/Versions/3.10/lib/python3.10/site-packages/sklearn/svm/_base.py:1225: ConvergenceWarning: Liblinear failed to converge, increase the number of iterations.\n",
      "  warnings.warn(\n"
     ]
    },
    {
     "name": "stdout",
     "output_type": "stream",
     "text": [
      "[CV] END .............C=1000.0, penalty=l1, solver=liblinear; total time= 2.9min\n",
      "[CV] END .C=316.22776601683796, penalty=l1, solver=liblinear; total time=   1.7s\n",
      "[CV] END .C=316.22776601683796, penalty=l1, solver=liblinear; total time=   0.4s\n",
      "[CV] END .C=316.22776601683796, penalty=l1, solver=liblinear; total time=   0.8s\n"
     ]
    },
    {
     "name": "stderr",
     "output_type": "stream",
     "text": [
      "/Library/Frameworks/Python.framework/Versions/3.10/lib/python3.10/site-packages/sklearn/svm/_base.py:1225: ConvergenceWarning: Liblinear failed to converge, increase the number of iterations.\n",
      "  warnings.warn(\n"
     ]
    },
    {
     "name": "stdout",
     "output_type": "stream",
     "text": [
      "[CV] END .C=316.22776601683796, penalty=l1, solver=liblinear; total time= 2.7min\n",
      "[CV] END ..............C=100.0, penalty=l1, solver=liblinear; total time=   1.3s\n",
      "[CV] END ..............C=100.0, penalty=l1, solver=liblinear; total time=   0.3s\n",
      "[CV] END ..............C=100.0, penalty=l1, solver=liblinear; total time=   0.8s\n",
      "[CV] END ..............C=100.0, penalty=l1, solver=liblinear; total time=   2.5s\n",
      "[CV] END .C=31.622776601683793, penalty=l1, solver=liblinear; total time=   1.0s\n",
      "[CV] END .C=31.622776601683793, penalty=l1, solver=liblinear; total time=   0.4s\n",
      "[CV] END .C=31.622776601683793, penalty=l1, solver=liblinear; total time=   0.6s\n",
      "[CV] END .C=31.622776601683793, penalty=l1, solver=liblinear; total time=   2.5s\n",
      "[CV] END ...............C=10.0, penalty=l1, solver=liblinear; total time=   0.9s\n",
      "[CV] END ...............C=10.0, penalty=l1, solver=liblinear; total time=   0.2s\n",
      "[CV] END ...............C=10.0, penalty=l1, solver=liblinear; total time=   0.5s\n",
      "[CV] END ...............C=10.0, penalty=l1, solver=liblinear; total time=   1.3s\n",
      "[CV] END .C=3.1622776601683795, penalty=l1, solver=liblinear; total time=   0.2s\n",
      "[CV] END .C=3.1622776601683795, penalty=l1, solver=liblinear; total time=   0.1s\n",
      "[CV] END .C=3.1622776601683795, penalty=l1, solver=liblinear; total time=   0.2s\n",
      "[CV] END .C=3.1622776601683795, penalty=l1, solver=liblinear; total time=   0.1s\n",
      "[CV] END ................C=1.0, penalty=l1, solver=liblinear; total time=   0.0s\n",
      "[CV] END ................C=1.0, penalty=l1, solver=liblinear; total time=   0.0s\n",
      "[CV] END ................C=1.0, penalty=l1, solver=liblinear; total time=   0.0s\n",
      "[CV] END ................C=1.0, penalty=l1, solver=liblinear; total time=   0.0s\n",
      "[CV] END C=0.31622776601683794, penalty=l1, solver=liblinear; total time=   0.0s\n",
      "[CV] END C=0.31622776601683794, penalty=l1, solver=liblinear; total time=   0.0s\n",
      "[CV] END C=0.31622776601683794, penalty=l1, solver=liblinear; total time=   0.0s\n",
      "[CV] END C=0.31622776601683794, penalty=l1, solver=liblinear; total time=   0.0s\n",
      "[CV] END ................C=0.1, penalty=l1, solver=liblinear; total time=   0.0s\n",
      "[CV] END ................C=0.1, penalty=l1, solver=liblinear; total time=   0.0s\n",
      "[CV] END ................C=0.1, penalty=l1, solver=liblinear; total time=   0.0s\n",
      "[CV] END ................C=0.1, penalty=l1, solver=liblinear; total time=   0.0s\n",
      "[CV] END C=0.03162277660168379, penalty=l1, solver=liblinear; total time=   0.0s\n",
      "[CV] END C=0.03162277660168379, penalty=l1, solver=liblinear; total time=   0.0s\n",
      "[CV] END C=0.03162277660168379, penalty=l1, solver=liblinear; total time=   0.0s\n",
      "[CV] END C=0.03162277660168379, penalty=l1, solver=liblinear; total time=   0.0s\n",
      "[CV] END ...............C=0.01, penalty=l1, solver=liblinear; total time=   0.0s\n",
      "[CV] END ...............C=0.01, penalty=l1, solver=liblinear; total time=   0.0s\n",
      "[CV] END ...............C=0.01, penalty=l1, solver=liblinear; total time=   0.0s\n",
      "[CV] END ...............C=0.01, penalty=l1, solver=liblinear; total time=   0.0s\n",
      "[CV] END C=0.0031622776601683794, penalty=l1, solver=liblinear; total time=   0.0s\n",
      "[CV] END C=0.0031622776601683794, penalty=l1, solver=liblinear; total time=   0.0s\n",
      "[CV] END C=0.0031622776601683794, penalty=l1, solver=liblinear; total time=   0.0s\n",
      "[CV] END C=0.0031622776601683794, penalty=l1, solver=liblinear; total time=   0.0s\n"
     ]
    },
    {
     "data": {
      "text/html": [
       "<style>#sk-container-id-13 {color: black;background-color: white;}#sk-container-id-13 pre{padding: 0;}#sk-container-id-13 div.sk-toggleable {background-color: white;}#sk-container-id-13 label.sk-toggleable__label {cursor: pointer;display: block;width: 100%;margin-bottom: 0;padding: 0.3em;box-sizing: border-box;text-align: center;}#sk-container-id-13 label.sk-toggleable__label-arrow:before {content: \"▸\";float: left;margin-right: 0.25em;color: #696969;}#sk-container-id-13 label.sk-toggleable__label-arrow:hover:before {color: black;}#sk-container-id-13 div.sk-estimator:hover label.sk-toggleable__label-arrow:before {color: black;}#sk-container-id-13 div.sk-toggleable__content {max-height: 0;max-width: 0;overflow: hidden;text-align: left;background-color: #f0f8ff;}#sk-container-id-13 div.sk-toggleable__content pre {margin: 0.2em;color: black;border-radius: 0.25em;background-color: #f0f8ff;}#sk-container-id-13 input.sk-toggleable__control:checked~div.sk-toggleable__content {max-height: 200px;max-width: 100%;overflow: auto;}#sk-container-id-13 input.sk-toggleable__control:checked~label.sk-toggleable__label-arrow:before {content: \"▾\";}#sk-container-id-13 div.sk-estimator input.sk-toggleable__control:checked~label.sk-toggleable__label {background-color: #d4ebff;}#sk-container-id-13 div.sk-label input.sk-toggleable__control:checked~label.sk-toggleable__label {background-color: #d4ebff;}#sk-container-id-13 input.sk-hidden--visually {border: 0;clip: rect(1px 1px 1px 1px);clip: rect(1px, 1px, 1px, 1px);height: 1px;margin: -1px;overflow: hidden;padding: 0;position: absolute;width: 1px;}#sk-container-id-13 div.sk-estimator {font-family: monospace;background-color: #f0f8ff;border: 1px dotted black;border-radius: 0.25em;box-sizing: border-box;margin-bottom: 0.5em;}#sk-container-id-13 div.sk-estimator:hover {background-color: #d4ebff;}#sk-container-id-13 div.sk-parallel-item::after {content: \"\";width: 100%;border-bottom: 1px solid gray;flex-grow: 1;}#sk-container-id-13 div.sk-label:hover label.sk-toggleable__label {background-color: #d4ebff;}#sk-container-id-13 div.sk-serial::before {content: \"\";position: absolute;border-left: 1px solid gray;box-sizing: border-box;top: 0;bottom: 0;left: 50%;z-index: 0;}#sk-container-id-13 div.sk-serial {display: flex;flex-direction: column;align-items: center;background-color: white;padding-right: 0.2em;padding-left: 0.2em;position: relative;}#sk-container-id-13 div.sk-item {position: relative;z-index: 1;}#sk-container-id-13 div.sk-parallel {display: flex;align-items: stretch;justify-content: center;background-color: white;position: relative;}#sk-container-id-13 div.sk-item::before, #sk-container-id-13 div.sk-parallel-item::before {content: \"\";position: absolute;border-left: 1px solid gray;box-sizing: border-box;top: 0;bottom: 0;left: 50%;z-index: -1;}#sk-container-id-13 div.sk-parallel-item {display: flex;flex-direction: column;z-index: 1;position: relative;background-color: white;}#sk-container-id-13 div.sk-parallel-item:first-child::after {align-self: flex-end;width: 50%;}#sk-container-id-13 div.sk-parallel-item:last-child::after {align-self: flex-start;width: 50%;}#sk-container-id-13 div.sk-parallel-item:only-child::after {width: 0;}#sk-container-id-13 div.sk-dashed-wrapped {border: 1px dashed gray;margin: 0 0.4em 0.5em 0.4em;box-sizing: border-box;padding-bottom: 0.4em;background-color: white;}#sk-container-id-13 div.sk-label label {font-family: monospace;font-weight: bold;display: inline-block;line-height: 1.2em;}#sk-container-id-13 div.sk-label-container {text-align: center;}#sk-container-id-13 div.sk-container {/* jupyter's `normalize.less` sets `[hidden] { display: none; }` but bootstrap.min.css set `[hidden] { display: none !important; }` so we also need the `!important` here to be able to override the default hidden behavior on the sphinx rendered scikit-learn.org. See: https://github.com/scikit-learn/scikit-learn/issues/21755 */display: inline-block !important;position: relative;}#sk-container-id-13 div.sk-text-repr-fallback {display: none;}</style><div id=\"sk-container-id-13\" class=\"sk-top-container\"><div class=\"sk-text-repr-fallback\"><pre>GridSearchCV(cv=4, estimator=LogisticRegression(max_iter=1000),\n",
       "             param_grid={&#x27;C&#x27;: array([1000.        ,  316.22776602,  100.        ,   31.6227766 ,\n",
       "         10.        ,    3.16227766,    1.        ,    0.31622777,\n",
       "          0.1       ,    0.03162278,    0.01      ,    0.00316228]),\n",
       "                         &#x27;penalty&#x27;: [&#x27;l1&#x27;], &#x27;solver&#x27;: [&#x27;liblinear&#x27;]},\n",
       "             scoring=&#x27;roc_auc&#x27;, verbose=2)</pre><b>In a Jupyter environment, please rerun this cell to show the HTML representation or trust the notebook. <br />On GitHub, the HTML representation is unable to render, please try loading this page with nbviewer.org.</b></div><div class=\"sk-container\" hidden><div class=\"sk-item sk-dashed-wrapped\"><div class=\"sk-label-container\"><div class=\"sk-label sk-toggleable\"><input class=\"sk-toggleable__control sk-hidden--visually\" id=\"sk-estimator-id-23\" type=\"checkbox\" ><label for=\"sk-estimator-id-23\" class=\"sk-toggleable__label sk-toggleable__label-arrow\">GridSearchCV</label><div class=\"sk-toggleable__content\"><pre>GridSearchCV(cv=4, estimator=LogisticRegression(max_iter=1000),\n",
       "             param_grid={&#x27;C&#x27;: array([1000.        ,  316.22776602,  100.        ,   31.6227766 ,\n",
       "         10.        ,    3.16227766,    1.        ,    0.31622777,\n",
       "          0.1       ,    0.03162278,    0.01      ,    0.00316228]),\n",
       "                         &#x27;penalty&#x27;: [&#x27;l1&#x27;], &#x27;solver&#x27;: [&#x27;liblinear&#x27;]},\n",
       "             scoring=&#x27;roc_auc&#x27;, verbose=2)</pre></div></div></div><div class=\"sk-parallel\"><div class=\"sk-parallel-item\"><div class=\"sk-item\"><div class=\"sk-label-container\"><div class=\"sk-label sk-toggleable\"><input class=\"sk-toggleable__control sk-hidden--visually\" id=\"sk-estimator-id-24\" type=\"checkbox\" ><label for=\"sk-estimator-id-24\" class=\"sk-toggleable__label sk-toggleable__label-arrow\">estimator: LogisticRegression</label><div class=\"sk-toggleable__content\"><pre>LogisticRegression(max_iter=1000)</pre></div></div></div><div class=\"sk-serial\"><div class=\"sk-item\"><div class=\"sk-estimator sk-toggleable\"><input class=\"sk-toggleable__control sk-hidden--visually\" id=\"sk-estimator-id-25\" type=\"checkbox\" ><label for=\"sk-estimator-id-25\" class=\"sk-toggleable__label sk-toggleable__label-arrow\">LogisticRegression</label><div class=\"sk-toggleable__content\"><pre>LogisticRegression(max_iter=1000)</pre></div></div></div></div></div></div></div></div></div></div>"
      ],
      "text/plain": [
       "GridSearchCV(cv=4, estimator=LogisticRegression(max_iter=1000),\n",
       "             param_grid={'C': array([1000.        ,  316.22776602,  100.        ,   31.6227766 ,\n",
       "         10.        ,    3.16227766,    1.        ,    0.31622777,\n",
       "          0.1       ,    0.03162278,    0.01      ,    0.00316228]),\n",
       "                         'penalty': ['l1'], 'solver': ['liblinear']},\n",
       "             scoring='roc_auc', verbose=2)"
      ]
     },
     "execution_count": 200,
     "metadata": {},
     "output_type": "execute_result"
    }
   ],
   "source": [
    "lr_syn = LogisticRegression(max_iter=1000)\n",
    "params = {'C':c_vals,'penalty':['l1'],'solver' : ['liblinear']}\n",
    "\n",
    "clf = GridSearchCV(estimator=lr_syn,param_grid=params,cv=4,verbose=2,scoring='roc_auc')\n",
    "clf.fit(X_train,y_train)"
   ]
  },
  {
   "cell_type": "code",
   "execution_count": 192,
   "id": "e4dce15d-7e26-4f49-a8f3-c6a7fb33c442",
   "metadata": {},
   "outputs": [],
   "source": [
    "# import sklearn\n",
    "# sklearn.metrics.get_scorer_names()"
   ]
  },
  {
   "cell_type": "code",
   "execution_count": 194,
   "id": "8cf04190-9e5d-4b23-b418-1cce99c86942",
   "metadata": {},
   "outputs": [
    {
     "data": {
      "text/plain": [
       "{'C': 1000.0, 'penalty': 'l1', 'solver': 'liblinear'}"
      ]
     },
     "execution_count": 194,
     "metadata": {},
     "output_type": "execute_result"
    }
   ],
   "source": [
    "clf.best_params_\n"
   ]
  },
  {
   "cell_type": "code",
   "execution_count": 195,
   "id": "913b95f2-5a4e-4cbe-be9f-75388d857e6e",
   "metadata": {},
   "outputs": [
    {
     "data": {
      "text/html": [
       "<style>#sk-container-id-12 {color: black;background-color: white;}#sk-container-id-12 pre{padding: 0;}#sk-container-id-12 div.sk-toggleable {background-color: white;}#sk-container-id-12 label.sk-toggleable__label {cursor: pointer;display: block;width: 100%;margin-bottom: 0;padding: 0.3em;box-sizing: border-box;text-align: center;}#sk-container-id-12 label.sk-toggleable__label-arrow:before {content: \"▸\";float: left;margin-right: 0.25em;color: #696969;}#sk-container-id-12 label.sk-toggleable__label-arrow:hover:before {color: black;}#sk-container-id-12 div.sk-estimator:hover label.sk-toggleable__label-arrow:before {color: black;}#sk-container-id-12 div.sk-toggleable__content {max-height: 0;max-width: 0;overflow: hidden;text-align: left;background-color: #f0f8ff;}#sk-container-id-12 div.sk-toggleable__content pre {margin: 0.2em;color: black;border-radius: 0.25em;background-color: #f0f8ff;}#sk-container-id-12 input.sk-toggleable__control:checked~div.sk-toggleable__content {max-height: 200px;max-width: 100%;overflow: auto;}#sk-container-id-12 input.sk-toggleable__control:checked~label.sk-toggleable__label-arrow:before {content: \"▾\";}#sk-container-id-12 div.sk-estimator input.sk-toggleable__control:checked~label.sk-toggleable__label {background-color: #d4ebff;}#sk-container-id-12 div.sk-label input.sk-toggleable__control:checked~label.sk-toggleable__label {background-color: #d4ebff;}#sk-container-id-12 input.sk-hidden--visually {border: 0;clip: rect(1px 1px 1px 1px);clip: rect(1px, 1px, 1px, 1px);height: 1px;margin: -1px;overflow: hidden;padding: 0;position: absolute;width: 1px;}#sk-container-id-12 div.sk-estimator {font-family: monospace;background-color: #f0f8ff;border: 1px dotted black;border-radius: 0.25em;box-sizing: border-box;margin-bottom: 0.5em;}#sk-container-id-12 div.sk-estimator:hover {background-color: #d4ebff;}#sk-container-id-12 div.sk-parallel-item::after {content: \"\";width: 100%;border-bottom: 1px solid gray;flex-grow: 1;}#sk-container-id-12 div.sk-label:hover label.sk-toggleable__label {background-color: #d4ebff;}#sk-container-id-12 div.sk-serial::before {content: \"\";position: absolute;border-left: 1px solid gray;box-sizing: border-box;top: 0;bottom: 0;left: 50%;z-index: 0;}#sk-container-id-12 div.sk-serial {display: flex;flex-direction: column;align-items: center;background-color: white;padding-right: 0.2em;padding-left: 0.2em;position: relative;}#sk-container-id-12 div.sk-item {position: relative;z-index: 1;}#sk-container-id-12 div.sk-parallel {display: flex;align-items: stretch;justify-content: center;background-color: white;position: relative;}#sk-container-id-12 div.sk-item::before, #sk-container-id-12 div.sk-parallel-item::before {content: \"\";position: absolute;border-left: 1px solid gray;box-sizing: border-box;top: 0;bottom: 0;left: 50%;z-index: -1;}#sk-container-id-12 div.sk-parallel-item {display: flex;flex-direction: column;z-index: 1;position: relative;background-color: white;}#sk-container-id-12 div.sk-parallel-item:first-child::after {align-self: flex-end;width: 50%;}#sk-container-id-12 div.sk-parallel-item:last-child::after {align-self: flex-start;width: 50%;}#sk-container-id-12 div.sk-parallel-item:only-child::after {width: 0;}#sk-container-id-12 div.sk-dashed-wrapped {border: 1px dashed gray;margin: 0 0.4em 0.5em 0.4em;box-sizing: border-box;padding-bottom: 0.4em;background-color: white;}#sk-container-id-12 div.sk-label label {font-family: monospace;font-weight: bold;display: inline-block;line-height: 1.2em;}#sk-container-id-12 div.sk-label-container {text-align: center;}#sk-container-id-12 div.sk-container {/* jupyter's `normalize.less` sets `[hidden] { display: none; }` but bootstrap.min.css set `[hidden] { display: none !important; }` so we also need the `!important` here to be able to override the default hidden behavior on the sphinx rendered scikit-learn.org. See: https://github.com/scikit-learn/scikit-learn/issues/21755 */display: inline-block !important;position: relative;}#sk-container-id-12 div.sk-text-repr-fallback {display: none;}</style><div id=\"sk-container-id-12\" class=\"sk-top-container\"><div class=\"sk-text-repr-fallback\"><pre>LogisticRegression(C=1000.0, max_iter=1000, penalty=&#x27;l1&#x27;, solver=&#x27;liblinear&#x27;)</pre><b>In a Jupyter environment, please rerun this cell to show the HTML representation or trust the notebook. <br />On GitHub, the HTML representation is unable to render, please try loading this page with nbviewer.org.</b></div><div class=\"sk-container\" hidden><div class=\"sk-item\"><div class=\"sk-estimator sk-toggleable\"><input class=\"sk-toggleable__control sk-hidden--visually\" id=\"sk-estimator-id-22\" type=\"checkbox\" checked><label for=\"sk-estimator-id-22\" class=\"sk-toggleable__label sk-toggleable__label-arrow\">LogisticRegression</label><div class=\"sk-toggleable__content\"><pre>LogisticRegression(C=1000.0, max_iter=1000, penalty=&#x27;l1&#x27;, solver=&#x27;liblinear&#x27;)</pre></div></div></div></div></div>"
      ],
      "text/plain": [
       "LogisticRegression(C=1000.0, max_iter=1000, penalty='l1', solver='liblinear')"
      ]
     },
     "execution_count": 195,
     "metadata": {},
     "output_type": "execute_result"
    }
   ],
   "source": [
    "clf.best_estimator_"
   ]
  },
  {
   "cell_type": "code",
   "execution_count": 196,
   "id": "33a840aa-4d33-42db-9879-43ca2b05fb17",
   "metadata": {},
   "outputs": [
    {
     "data": {
      "text/plain": [
       "{'mean_fit_time': array([39.845855  ,  0.0001871 , 36.76778275,  0.0001812 ,  1.15155691,\n",
       "         0.00020623,  1.11793303,  0.0001893 ,  0.61146915,  0.00019902,\n",
       "         0.11955971,  0.00015956,  0.03598505,  0.00035441,  0.01484454,\n",
       "         0.00017452,  0.00504071,  0.00015205,  0.00338894,  0.00013709,\n",
       "         0.00288898,  0.0001362 ,  0.00217766,  0.00013846]),\n",
       " 'std_fit_time': array([67.56650042,  0.00008108, 62.23873983,  0.0000732 ,  0.78773618,\n",
       "         0.00010953,  0.76677314,  0.00009508,  0.34181724,  0.00010387,\n",
       "         0.05361753,  0.00004475,  0.00884165,  0.00014701,  0.00082417,\n",
       "         0.00004402,  0.00044479,  0.00002514,  0.00018425,  0.00002459,\n",
       "         0.00003064,  0.00002346,  0.00005058,  0.0000188 ]),\n",
       " 'mean_score_time': array([0.0030452 , 0.        , 0.00154173, 0.        , 0.0013144 ,\n",
       "        0.        , 0.00136542, 0.        , 0.00129068, 0.        ,\n",
       "        0.00128311, 0.        , 0.00192004, 0.        , 0.00176597,\n",
       "        0.        , 0.00110674, 0.        , 0.00106829, 0.        ,\n",
       "        0.00100636, 0.        , 0.00095677, 0.        ]),\n",
       " 'std_score_time': array([0.00268064, 0.        , 0.00020432, 0.        , 0.00008202,\n",
       "        0.        , 0.0001112 , 0.        , 0.000063  , 0.        ,\n",
       "        0.00005337, 0.        , 0.00059527, 0.        , 0.00025111,\n",
       "        0.        , 0.00012579, 0.        , 0.00005988, 0.        ,\n",
       "        0.00002371, 0.        , 0.00003257, 0.        ]),\n",
       " 'param_C': masked_array(data=[1000.0, 1000.0, 316.22776601683796, 316.22776601683796,\n",
       "                    100.0, 100.0, 31.622776601683793, 31.622776601683793,\n",
       "                    10.0, 10.0, 3.1622776601683795, 3.1622776601683795,\n",
       "                    1.0, 1.0, 0.31622776601683794, 0.31622776601683794,\n",
       "                    0.1, 0.1, 0.03162277660168379, 0.03162277660168379,\n",
       "                    0.01, 0.01, 0.0031622776601683794,\n",
       "                    0.0031622776601683794],\n",
       "              mask=[False, False, False, False, False, False, False, False,\n",
       "                    False, False, False, False, False, False, False, False,\n",
       "                    False, False, False, False, False, False, False, False],\n",
       "        fill_value='?',\n",
       "             dtype=object),\n",
       " 'param_penalty': masked_array(data=['l1', 'l1', 'l1', 'l1', 'l1', 'l1', 'l1', 'l1', 'l1',\n",
       "                    'l1', 'l1', 'l1', 'l1', 'l1', 'l1', 'l1', 'l1', 'l1',\n",
       "                    'l1', 'l1', 'l1', 'l1', 'l1', 'l1'],\n",
       "              mask=[False, False, False, False, False, False, False, False,\n",
       "                    False, False, False, False, False, False, False, False,\n",
       "                    False, False, False, False, False, False, False, False],\n",
       "        fill_value='?',\n",
       "             dtype=object),\n",
       " 'param_solver': masked_array(data=['liblinear', 'sag', 'liblinear', 'sag', 'liblinear',\n",
       "                    'sag', 'liblinear', 'sag', 'liblinear', 'sag',\n",
       "                    'liblinear', 'sag', 'liblinear', 'sag', 'liblinear',\n",
       "                    'sag', 'liblinear', 'sag', 'liblinear', 'sag',\n",
       "                    'liblinear', 'sag', 'liblinear', 'sag'],\n",
       "              mask=[False, False, False, False, False, False, False, False,\n",
       "                    False, False, False, False, False, False, False, False,\n",
       "                    False, False, False, False, False, False, False, False],\n",
       "        fill_value='?',\n",
       "             dtype=object),\n",
       " 'params': [{'C': 1000.0, 'penalty': 'l1', 'solver': 'liblinear'},\n",
       "  {'C': 1000.0, 'penalty': 'l1', 'solver': 'sag'},\n",
       "  {'C': 316.22776601683796, 'penalty': 'l1', 'solver': 'liblinear'},\n",
       "  {'C': 316.22776601683796, 'penalty': 'l1', 'solver': 'sag'},\n",
       "  {'C': 100.0, 'penalty': 'l1', 'solver': 'liblinear'},\n",
       "  {'C': 100.0, 'penalty': 'l1', 'solver': 'sag'},\n",
       "  {'C': 31.622776601683793, 'penalty': 'l1', 'solver': 'liblinear'},\n",
       "  {'C': 31.622776601683793, 'penalty': 'l1', 'solver': 'sag'},\n",
       "  {'C': 10.0, 'penalty': 'l1', 'solver': 'liblinear'},\n",
       "  {'C': 10.0, 'penalty': 'l1', 'solver': 'sag'},\n",
       "  {'C': 3.1622776601683795, 'penalty': 'l1', 'solver': 'liblinear'},\n",
       "  {'C': 3.1622776601683795, 'penalty': 'l1', 'solver': 'sag'},\n",
       "  {'C': 1.0, 'penalty': 'l1', 'solver': 'liblinear'},\n",
       "  {'C': 1.0, 'penalty': 'l1', 'solver': 'sag'},\n",
       "  {'C': 0.31622776601683794, 'penalty': 'l1', 'solver': 'liblinear'},\n",
       "  {'C': 0.31622776601683794, 'penalty': 'l1', 'solver': 'sag'},\n",
       "  {'C': 0.1, 'penalty': 'l1', 'solver': 'liblinear'},\n",
       "  {'C': 0.1, 'penalty': 'l1', 'solver': 'sag'},\n",
       "  {'C': 0.03162277660168379, 'penalty': 'l1', 'solver': 'liblinear'},\n",
       "  {'C': 0.03162277660168379, 'penalty': 'l1', 'solver': 'sag'},\n",
       "  {'C': 0.01, 'penalty': 'l1', 'solver': 'liblinear'},\n",
       "  {'C': 0.01, 'penalty': 'l1', 'solver': 'sag'},\n",
       "  {'C': 0.0031622776601683794, 'penalty': 'l1', 'solver': 'liblinear'},\n",
       "  {'C': 0.0031622776601683794, 'penalty': 'l1', 'solver': 'sag'}],\n",
       " 'split0_test_score': array([0.78391357,        nan, 0.78531413,        nan, 0.78551421,\n",
       "               nan, 0.78951581,        nan, 0.78701481,        nan,\n",
       "        0.78941577,        nan, 0.80922369,        nan, 0.83533413,\n",
       "               nan, 0.87354942,        nan, 0.88645458,        nan,\n",
       "        0.88595438,        nan, 0.5       ,        nan]),\n",
       " 'split1_test_score': array([0.76040416,        nan, 0.76030412,        nan, 0.76060424,\n",
       "               nan, 0.76240496,        nan, 0.76880752,        nan,\n",
       "        0.7795118 ,        nan, 0.80162065,        nan, 0.8467387 ,\n",
       "               nan, 0.88655462,        nan, 0.89565826,        nan,\n",
       "        0.89565826,        nan, 0.5       ,        nan]),\n",
       " 'split2_test_score': array([0.74406966,        nan, 0.74447002,        nan, 0.74477029,\n",
       "               nan, 0.74607146,        nan, 0.74657191,        nan,\n",
       "        0.75638074,        nan, 0.78660795,        nan, 0.82504254,\n",
       "               nan, 0.86067461,        nan, 0.86307677,        nan,\n",
       "        0.86307677,        nan, 0.5       ,        nan]),\n",
       " 'split3_test_score': array([0.82514263,        nan, 0.82614353,        nan, 0.82784506,\n",
       "               nan, 0.82964668,        nan, 0.83615254,        nan,\n",
       "        0.84746272,        nan, 0.85156641,        nan, 0.85356821,\n",
       "               nan, 0.87809028,        nan, 0.8950055 ,        nan,\n",
       "        0.89370433,        nan, 0.5       ,        nan]),\n",
       " 'mean_test_score': array([0.7783825 ,        nan, 0.77905795,        nan, 0.77968345,\n",
       "               nan, 0.78190973,        nan, 0.7846367 ,        nan,\n",
       "        0.79319276,        nan, 0.81225467,        nan, 0.84017089,\n",
       "               nan, 0.87471723,        nan, 0.88504878,        nan,\n",
       "        0.88459844,        nan, 0.5       ,        nan]),\n",
       " 'std_test_score': array([0.03048645,        nan, 0.03083919,        nan, 0.0313707 ,\n",
       "               nan, 0.03162865,        nan, 0.03301147,        nan,\n",
       "        0.03354768,        nan, 0.02411139,        nan, 0.01089593,\n",
       "               nan, 0.00935495,        nan, 0.0131951 ,        nan,\n",
       "        0.01294467,        nan, 0.        ,        nan]),\n",
       " 'rank_test_score': array([-2147483648, -2147483648, -2147483648, -2147483648, -2147483648,\n",
       "        -2147483648, -2147483648, -2147483648, -2147483648, -2147483648,\n",
       "        -2147483648, -2147483648, -2147483648, -2147483648, -2147483648,\n",
       "        -2147483648, -2147483648, -2147483648, -2147483648, -2147483648,\n",
       "        -2147483648, -2147483648, -2147483648, -2147483648], dtype=int32)}"
      ]
     },
     "execution_count": 196,
     "metadata": {},
     "output_type": "execute_result"
    }
   ],
   "source": [
    "clf.cv_results_"
   ]
  },
  {
   "cell_type": "code",
   "execution_count": 160,
   "id": "d4bf0f8e-6748-4a8a-b0d5-786749448e49",
   "metadata": {},
   "outputs": [],
   "source": [
    "# X_scaled =  minmax_scale(X_train)"
   ]
  },
  {
   "cell_type": "code",
   "execution_count": 161,
   "id": "6837bc3b-e586-4986-b462-2a91aede2c5d",
   "metadata": {},
   "outputs": [
    {
     "data": {
      "text/plain": [
       "array([[0.90254712, 0.89450918, 0.27746758, ..., 0.438506  , 0.43723935,\n",
       "        0.30148653],\n",
       "       [0.43834064, 0.48154813, 0.59072254, ..., 0.37960781, 0.68604399,\n",
       "        0.39042068],\n",
       "       [0.76903342, 0.52339775, 0.56465267, ..., 0.43297566, 0.60525115,\n",
       "        0.22557637],\n",
       "       ...,\n",
       "       [0.5487086 , 0.32943404, 0.54487036, ..., 0.59070313, 0.58981451,\n",
       "        0.24938455],\n",
       "       [0.47438173, 0.46926199, 0.46773263, ..., 0.36258373, 0.4319974 ,\n",
       "        0.43118893],\n",
       "       [0.52940172, 0.75241901, 0.25539789, ..., 0.63269086, 0.34168843,\n",
       "        0.42134855]])"
      ]
     },
     "execution_count": 161,
     "metadata": {},
     "output_type": "execute_result"
    }
   ],
   "source": [
    "# X_scaled"
   ]
  },
  {
   "cell_type": "code",
   "execution_count": 198,
   "id": "49aa74f7-9c33-43fd-a40a-097f245dca7e",
   "metadata": {},
   "outputs": [
    {
     "data": {
      "text/plain": [
       "0.6663474140538361"
      ]
     },
     "execution_count": 198,
     "metadata": {},
     "output_type": "execute_result"
    }
   ],
   "source": [
    "# X_scal =  minmax_scale(X_test)\n",
    "y_pred = clf.predict(X_test)\n",
    "roc_auc_score(y_test,y_pred)"
   ]
  },
  {
   "cell_type": "code",
   "execution_count": 199,
   "id": "0b2df466-b94e-4b06-af79-8bd8d1df6a18",
   "metadata": {},
   "outputs": [
    {
     "data": {
      "text/plain": [
       "0.8801125703564727"
      ]
     },
     "execution_count": 199,
     "metadata": {},
     "output_type": "execute_result"
    }
   ],
   "source": [
    "y_train_pred = clf.predict(X_train)\n",
    "roc_auc_score(y_train,y_train_pred)"
   ]
  },
  {
   "cell_type": "code",
   "execution_count": null,
   "id": "2926a649-fe1c-41a4-9d08-b16e902a511d",
   "metadata": {},
   "outputs": [],
   "source": []
  }
 ],
 "metadata": {
  "kernelspec": {
   "display_name": "Python 3 (ipykernel)",
   "language": "python",
   "name": "python3"
  },
  "language_info": {
   "codemirror_mode": {
    "name": "ipython",
    "version": 3
   },
   "file_extension": ".py",
   "mimetype": "text/x-python",
   "name": "python",
   "nbconvert_exporter": "python",
   "pygments_lexer": "ipython3",
   "version": "3.10.6"
  }
 },
 "nbformat": 4,
 "nbformat_minor": 5
}
